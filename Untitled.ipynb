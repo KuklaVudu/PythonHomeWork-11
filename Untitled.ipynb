{
 "cells": [
  {
   "cell_type": "code",
   "execution_count": 1,
   "id": "707e137b",
   "metadata": {},
   "outputs": [],
   "source": [
    "# f(x) = -12x^4*sin(cos(x)) - 18x^3+5x^2 + 10x - 30\n",
    "# Определить корни\n",
    "# Найти интервалы, на которых функция возрастает\n",
    "# Найти интервалы, на которых функция убывает\n",
    "# Построить график\n",
    "# Вычислить вершину\n",
    "# Определить промежутки, на котором f > 0\n",
    "# Определить промежутки, на котором f < 0"
   ]
  },
  {
   "cell_type": "code",
   "execution_count": 2,
   "id": "ec944db3",
   "metadata": {},
   "outputs": [],
   "source": [
    "import numpy as np\n",
    "import matplotlib.pyplot as plt"
   ]
  },
  {
   "cell_type": "code",
   "execution_count": 3,
   "id": "f3036de4",
   "metadata": {},
   "outputs": [],
   "source": [
    "a, b, c, d, e = -12, -18, 5, 10, -30"
   ]
  },
  {
   "cell_type": "code",
   "execution_count": 4,
   "id": "415df449",
   "metadata": {},
   "outputs": [],
   "source": [
    "border = 10\n",
    "step = 0.01\n",
    "step_along = 0.001\n",
    "line_style = '-'\n",
    "line_color = 'b'\n",
    "direct_up = True"
   ]
  },
  {
   "cell_type": "code",
   "execution_count": 5,
   "id": "706a85af",
   "metadata": {},
   "outputs": [],
   "source": [
    "def switch_line():\n",
    "    global line_style\n",
    "    if line_style == '-':\n",
    "        line_style = '--'\n",
    "    else:\n",
    "        line_style = '-'\n",
    "    return line_style "
   ]
  },
  {
   "cell_type": "code",
   "execution_count": 6,
   "id": "a473ac67",
   "metadata": {},
   "outputs": [],
   "source": [
    "def switch_color():\n",
    "    global line_color\n",
    "    if line_color == 'b':\n",
    "        line_color = 'r'\n",
    "    else:\n",
    "        line_color = 'b'\n",
    "    return line_color "
   ]
  },
  {
   "cell_type": "code",
   "execution_count": 7,
   "id": "e9c7bb04",
   "metadata": {},
   "outputs": [],
   "source": [
    "def func(x):\n",
    "    f = a*x**4*np.sin(np.cos(x)) + b*x**3 + c*x**2 + d*x + e    \n",
    "    return f"
   ]
  },
  {
   "cell_type": "code",
   "execution_count": 8,
   "id": "ec7409f0",
   "metadata": {},
   "outputs": [],
   "source": [
    "x = np.arange(-border, border + step, step)"
   ]
  },
  {
   "cell_type": "code",
   "execution_count": 9,
   "id": "84158c38",
   "metadata": {},
   "outputs": [],
   "source": [
    "x_change = [(-border, 'border')]"
   ]
  },
  {
   "cell_type": "code",
   "execution_count": 10,
   "id": "9a8d86b2",
   "metadata": {},
   "outputs": [],
   "source": [
    "for i in range(len(x) -1):\n",
    "    if func(x[i]) > 0 and func(x[i+1]) < 0 or func(x[i]) < 0 and func(x[i+1]) > 0:\n",
    "        x_acr = np.arange(x[i], x[i+1] + step_along, step_along)\n",
    "        for j in range(len(x_acr) -1):\n",
    "            if func(x_acr[j]) > 0 and func(x_acr[j+1]) < 0 or func(x_acr[j]) < 0 and func(x_acr[j+1]) > 0:\n",
    "                x_change.append((x_acr[j], 'zero'))\n",
    "            if direct_up:\n",
    "                if func(x[i]) > func(x[i+1]):\n",
    "                    direct_up = False\n",
    "                    x_change.append((x[i], 'dir'))\n",
    "                else:\n",
    "                    if func(x[i]) < func(x[i+1]):\n",
    "                        direct_up = True\n",
    "                        x_change.append((x[i], 'dir'))"
   ]
  },
  {
   "cell_type": "code",
   "execution_count": 11,
   "id": "b6aa32d3",
   "metadata": {},
   "outputs": [],
   "source": [
    "x_change.append((border, 'border'))"
   ]
  },
  {
   "cell_type": "code",
   "execution_count": 12,
   "id": "9c8043fb",
   "metadata": {},
   "outputs": [
    {
     "data": {
      "image/png": "[encoded data removed]",
      "text/plain": [
       "<Figure size 640x480 with 1 Axes>"
      ]
     },
     "metadata": {},
     "output_type": "display_data"
    }
   ],
   "source": [
    "for i in range(len(x_change) - 1):\n",
    "    cur_x = np.arange(x_change[i][0], x_change[i+1][0] + step, step)\n",
    "    if x_change[i][1] == 'zero':\n",
    "        plt.plot(x_change[i][0], func(x_change[i][0]), 'go')\n",
    "        plt.rcParams['lines.linestyle'] = switch_line()\n",
    "        plt.plot(cur_x, func(cur_x), line_color)\n",
    "    else:\n",
    "        plt.plot(cur_x, func(cur_x), switch_color())"
   ]
  },
  {
   "cell_type": "code",
   "execution_count": null,
   "id": "41bbc957",
   "metadata": {},
   "outputs": [],
   "source": [
    "# Бесконечное количество интервалов на которых функция возрастает и так же - убывает\n",
    "# Корней бесконечное множество\n",
    "# Бесконечное количество интервалов на котором f > 0 и f < 0\n",
    "# Даже на узком диапазоне в функции не удаётся выявить выраженные вершины"
   ]
  }
 ],
 "metadata": {
  "kernelspec": {
   "display_name": "Python 3 (ipykernel)",
   "language": "python",
   "name": "python3"
  },
  "language_info": {
   "codemirror_mode": {
    "name": "ipython",
    "version": 3
   },
   "file_extension": ".py",
   "mimetype": "text/x-python",
   "name": "python",
   "nbconvert_exporter": "python",
   "pygments_lexer": "ipython3",
   "version": "3.11.1"
  }
 },
 "nbformat": 4,
 "nbformat_minor": 5
}
